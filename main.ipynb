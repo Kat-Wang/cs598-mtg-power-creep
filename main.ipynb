{
 "cells": [
  {
   "cell_type": "markdown",
   "id": "9e7e6886",
   "metadata": {},
   "source": [
    "### Setup \n",
    "##### No API Key needed - MTGJSON is open and free to use!\n",
    "\n",
    "**Mac**\n",
    "```bash\n",
    "python -m venv .venv\n",
    "source .venv/bin/activate \n",
    "pip install -r requirements.txt\n",
    "jupyter notebook\n",
    "```\n",
    "**Windows**\n",
    "```bash\n",
    "python -m venv .venv\n",
    "source .venv\\Scripts\\activate\n",
    "pip install -r requirements.txt\n",
    "jupyter notebook\n",
    "```"
   ]
  },
  {
   "cell_type": "code",
   "execution_count": null,
   "id": "702fa27a",
   "metadata": {},
   "outputs": [],
   "source": []
  },
  {
   "cell_type": "code",
   "execution_count": 1,
   "id": "c73c1e12",
   "metadata": {},
   "outputs": [],
   "source": [
    "import requests\n",
    "import zipfile\n",
    "import io\n",
    "import os\n",
    "import datetime\n",
    "import json   \n",
    "import pandas as pd\n",
    "import numpy as np\n",
    "import re"
   ]
  },
  {
   "cell_type": "code",
   "execution_count": null,
   "id": "8cee2c2f",
   "metadata": {},
   "outputs": [],
   "source": [
    "#Setting up some global variables and provenance recording\n",
    "PROVENANCE_FILE = \"provenance.json\"\n",
    "OUTPUT_DIR = \"data\"\n",
    "os.makedirs(OUTPUT_DIR, exist_ok=True)\n",
    "\n",
    "def record_provenance(step_name, description, inputs=None, outputs=None, extra=None):\n",
    "    entry = {\n",
    "        \"timestamp\": datetime.datetime.now().isoformat() + \"Z\",\n",
    "        \"step\": step_name,\n",
    "        \"description\": description,\n",
    "        \"inputs\": inputs or [],\n",
    "        \"outputs\": outputs or [],\n",
    "        \"extra\": str(extra) if extra is not None else None\n",
    "    }\n",
    "\n",
    "    if not os.path.exists(PROVENANCE_FILE):\n",
    "        with open(PROVENANCE_FILE, \"w\") as f:\n",
    "            json.dump({\"workflow\": \"MTGJSON curation\", \"records\": []}, f, indent=2)\n",
    "\n",
    "    with open(PROVENANCE_FILE, \"r+\") as f:\n",
    "        data = json.load(f)\n",
    "        data[\"records\"].append(entry)\n",
    "        f.seek(0)\n",
    "        json.dump(data, f, indent=2)\n",
    "        f.truncate()\n",
    "\n",
    "    print(f\"Recorded provenance: {step_name}\")\n"
   ]
  },
  {
   "cell_type": "code",
   "execution_count": null,
   "id": "01cbb67e",
   "metadata": {},
   "outputs": [
    {
     "name": "stdout",
     "output_type": "stream",
     "text": [
      "Recorded provenance: download_allprintings\n"
     ]
    }
   ],
   "source": [
    "#Download AllPrintings\n",
    "ALL_PRINTINGS = \"https://mtgjson.com/api/v5/AllPrintings.json.zip\"\n",
    "response = requests.get(ALL_PRINTINGS)\n",
    "response.raise_for_status() \n",
    "\n",
    "zip_path = os.path.join(OUTPUT_DIR, \"AllPrintings.json.zip\")\n",
    "with open(zip_path, \"wb\") as f:\n",
    "    f.write(response.content)\n",
    "\n",
    "with zipfile.ZipFile(io.BytesIO(response.content)) as z:\n",
    "    z.extractall(OUTPUT_DIR)\n",
    "\n",
    "record_provenance(\n",
    "    \"download_allprintings\", \n",
    "    \"Downloaded AllPrintings.json from MTGJSON\", \n",
    "    [\"https://mtgjson.com/api/v5/AllPrintings.json.zip\"],\n",
    "    [os.path.join(OUTPUT_DIR, \"AllPrintings.json\")]\n",
    ")"
   ]
  },
  {
   "cell_type": "code",
   "execution_count": null,
   "id": "74efb2e4",
   "metadata": {},
   "outputs": [
    {
     "name": "stdout",
     "output_type": "stream",
     "text": [
      "Recorded provenance: download_allsets\n"
     ]
    }
   ],
   "source": [
    "#Download AllSetFiles\n",
    "ALL_SETS = \"https://mtgjson.com/api/v5/AllSetFiles.zip\"\n",
    "\n",
    "response = requests.get(ALL_SETS)\n",
    "response.raise_for_status()\n",
    "\n",
    "zip_path = os.path.join(OUTPUT_DIR, \"AllSetFiles.zip\")\n",
    "with open(zip_path, \"wb\") as f:\n",
    "    f.write(response.content)\n",
    "\n",
    "with zipfile.ZipFile(zip_path, \"r\") as z:\n",
    "    z.extractall(OUTPUT_DIR)\n",
    "\n",
    "record_provenance(\n",
    "    \"download_allsets\", \n",
    "    \"Downloaded AllSetFiles from MTGJSON\",\n",
    "    [\"https://mtgjson.com/api/v5/AllSetFiles.zip\"],\n",
    "    [os.path.join(OUTPUT_DIR, \"*.json\")],\n",
    "    \"Includes all .json files except AllPrintings.json\"\n",
    ")"
   ]
  },
  {
   "cell_type": "code",
   "execution_count": null,
   "id": "c7df9688",
   "metadata": {},
   "outputs": [
    {
     "name": "stdout",
     "output_type": "stream",
     "text": [
      "Recorded provenance: all_sets_dict\n"
     ]
    }
   ],
   "source": [
    "#Create dictionary of all sets with filtered attributes\n",
    "skip_files = {\"AllSetFiles.zip\", \"AllPrintings.json\", \"AllPrintings.json.zip\"}\n",
    "sets = {}\n",
    "\n",
    "for filename in os.listdir(OUTPUT_DIR):\n",
    "    if not filename.endswith(\".json\") or filename in skip_files:\n",
    "        continue\n",
    "\n",
    "    path = os.path.join(OUTPUT_DIR, filename)\n",
    "    with open(path, \"r\", encoding=\"utf-8\") as f:\n",
    "        json_data = json.load(f)\n",
    "        set_data = json_data[\"data\"]\n",
    "\n",
    "        sets[set_data[\"code\"]] = {\n",
    "            \"name\": set_data[\"name\"],\n",
    "            \"releaseDate\": set_data.get(\"releaseDate\"),\n",
    "            \"type\": set_data.get(\"type\"),\n",
    "        }\n",
    "\n",
    "\n",
    "record_provenance(\n",
    "    \"all_sets_dict\", \n",
    "    \"Created a dictionary of all sets include only relevant set attributes\",\n",
    "    [os.path.join(OUTPUT_DIR, \"*.json\")],\n",
    "    [\"sets dictionary\"],\n",
    "    \"Excluded AllSetFiles.zip, AllPrintings.json, and AllPrintings.json.zip from input\"\n",
    ")"
   ]
  },
  {
   "cell_type": "code",
   "execution_count": null,
   "id": "4fd035a2",
   "metadata": {},
   "outputs": [
    {
     "name": "stdout",
     "output_type": "stream",
     "text": [
      "Matched: 10 of 28\n",
      "dict_values(['40K', 'BOT', 'MLTR', 'WHO', 'REX', 'FCLU', 'PIP', 'MACR', 'LMAR', 'AFIC'])\n",
      "Recorded provenance: set_code_list\n"
     ]
    }
   ],
   "source": [
    "#Creating set code list of Universe Beyond cards\n",
    "tables = pd.read_html('https://mtg.fandom.com/wiki/Universes_Beyond')\n",
    "ub_table = tables[0]\n",
    "ip_list = ub_table[\"IP\"].dropna().tolist()\n",
    "\n",
    "clean_ip_list = []\n",
    "for ip in ip_list:\n",
    "    cleaned = re.sub(r'(?:\\s*\\[\\d+\\])+$', '', ip)\n",
    "    parts = [p.strip() for p in cleaned.split('/') if p.strip()]\n",
    "    clean_ip_list.extend(parts)\n",
    "\n",
    "ip_to_set = {}\n",
    "\n",
    "for ip in clean_ip_list:\n",
    "    match = next(\n",
    "        (code for code, info in sets.items()\n",
    "         if ip.lower() in info.get(\"name\", \"\").lower()),\n",
    "        None\n",
    "    )\n",
    "    if match:\n",
    "        ip_to_set[ip] = match\n",
    "\n",
    "ip_set_codes = ip_to_set.values()\n",
    "\n",
    "print(\"Matched:\", len(ip_to_set), \"of\", len(clean_ip_list))\n",
    "print(ip_set_codes)\n",
    "\n",
    "record_provenance(\n",
    "    \"set_code_list\",\n",
    "    \"Created a list of set codes for Universe Beyond cards from MTG's Fandom.com wiki\",\n",
    "    [\"https://mtg.fandom.com/wiki/Universes_Beyond\", \"sets dictionary\"],\n",
    "    [\"ip_to_set dictionary\", \"ip_set_codes list\"],\n",
    "    \"Removed citation markers like [1], split multi-franchise names, and matched against MTG set names\"\n",
    ")"
   ]
  },
  {
   "cell_type": "code",
   "execution_count": 7,
   "id": "cfd58b6f",
   "metadata": {},
   "outputs": [
    {
     "name": "stdout",
     "output_type": "stream",
     "text": [
      "40K\n",
      "{\n",
      "    \"name\": \"Warhammer 40,000 Commander\",\n",
      "    \"releaseDate\": \"2022-10-07\",\n",
      "    \"type\": \"commander\"\n",
      "}\n"
     ]
    }
   ],
   "source": [
    "print(next(iter(sets)))\n",
    "print(json.dumps(sets[next(iter(sets))], indent=4))"
   ]
  },
  {
   "cell_type": "code",
   "execution_count": null,
   "id": "b41ac988",
   "metadata": {},
   "outputs": [
    {
     "name": "stdout",
     "output_type": "stream",
     "text": [
      "Recorded provenance: merge_set_metadata\n"
     ]
    }
   ],
   "source": [
    "#Filtering universe beyond (UB) cards and non-UB cards into separate dataframes\n",
    "with open(\"data/AllPrintings.json\", \"r\", encoding=\"utf-8\") as f:\n",
    "    ap_data = json.load(f)[\"data\"]\n",
    "\n",
    "cards = []\n",
    "universes_beyond_cards = []\n",
    "\n",
    "for set_code, set_data in ap_data.items():\n",
    "    for card in set_data[\"cards\"]:\n",
    "        meta = sets.get(set_code, {})\n",
    "        card[\"releaseDate\"] = meta.get(\"releaseDate\")\n",
    "        card[\"setType\"] = meta.get(\"type\")\n",
    "        card[\"setName\"] = meta.get(\"name\")\n",
    "        card[\"setCode\"] = set_code\n",
    "        card[\"isUniversesBeyond\"] = set_code in ip_set_codes\n",
    "\n",
    "        cards.append(card)\n",
    "\n",
    "df = pd.DataFrame(cards)\n",
    "\n",
    "record_provenance(\n",
    "    \"merge_set_metadata\",\n",
    "    \"Merged set-level metadata into card data from AllPrintings.json to create a unified dataset\",\n",
    "    [\"data/AllPrintings.json\", \"sets dictionary\", \"ip_set_codes list\"],\n",
    "    [\"df (merged dataframe)\"],\n",
    "    \"Attached set name, type, releaseDate, and isUniversesBeyond flag fields to each card record\"\n",
    ")"
   ]
  },
  {
   "cell_type": "code",
   "execution_count": null,
   "id": "37ea21a2",
   "metadata": {},
   "outputs": [
    {
     "name": "stdout",
     "output_type": "stream",
     "text": [
      "Recorded provenance: coercing_data_types\n"
     ]
    }
   ],
   "source": [
    "#Data cleaning - coercing column types\n",
    "for col in [\"manaValue\", \"power\", \"toughness\", \"defense\", \"edhrecRank\"]:\n",
    "    df[col] = pd.to_numeric(df[col], errors=\"coerce\")\n",
    "\n",
    "df[\"releaseDate\"] = pd.to_datetime(df[\"releaseDate\"], errors=\"coerce\")\n",
    "\n",
    "for col in [\"name\", \"type\", \"rarity\", \"setName\", \"setCode\", \"text\"]:\n",
    "    df[col] = df[col].astype(str)\n",
    "\n",
    "for col in [\"keywords\", \"colors\"]:\n",
    "    df[col] = df[col].apply(\n",
    "        lambda x: [str(i) for i in x] if isinstance(x, list)\n",
    "        else ([] if pd.isna(x) else [str(x)])\n",
    "    )\n",
    "\n",
    "record_provenance(\n",
    "    \"coercing_data_types\",\n",
    "    \"Ensured all columns are coerced to their respective types for easier future use\",\n",
    "    [\"df (merged dataframe)\"],\n",
    "    [\"df (cleaned, merged dataframe)\"]\n",
    ")"
   ]
  },
  {
   "cell_type": "code",
   "execution_count": null,
   "id": "26048f60",
   "metadata": {},
   "outputs": [
    {
     "name": "stdout",
     "output_type": "stream",
     "text": [
      "Recorded provenance: adding_cols\n"
     ]
    }
   ],
   "source": [
    "#Adding helpful columns\n",
    "df[\"keywordCount\"] = df[\"keywords\"].apply(lambda x: len(x) if isinstance(x, list) else 0)\n",
    "df[\"baseLevel\"] = df[[\"manaValue\", \"power\", \"toughness\"]].fillna(0).sum(axis=1)\n",
    "df[\"isMulticolor\"] = df[\"colors\"].apply(lambda x: len(x) > 1 if isinstance(x, list) else False)\n",
    "\n",
    "record_provenance(\n",
    "    \"adding_cols\",\n",
    "    \"Adding keywordCount, baseLevel, and isMulticolor\",\n",
    "    [\"df (cleaned, merged dataframe)\"],\n",
    "    [\"df (supplementary columns)\"],\n",
    ")"
   ]
  },
  {
   "cell_type": "code",
   "execution_count": null,
   "id": "0b7dec7d",
   "metadata": {},
   "outputs": [
    {
     "name": "stdout",
     "output_type": "stream",
     "text": [
      "Recorded provenance: separate_dataframes\n"
     ]
    }
   ],
   "source": [
    "#Splitting data into Universe Beyond and non-Universe Beyond dataframes\n",
    "\n",
    "df_ub = df[df[\"isUniversesBeyond\"] == True]\n",
    "df_non_ub = df[df[\"isUniversesBeyond\"] == False]\n",
    "\n",
    "record_provenance(\n",
    "    \"separate_dataframes\", \n",
    "    \"Merged set metadata into every card and separated Universes Beyond vs non-UB cards using known ip_set_codes\",\n",
    "    [\"df (supplementary columns)\"],\n",
    "    [\"df_ub (Universe Beyond dataframe)\", \"df_non_ub (non-Universe Beyond dataframe)\"]\n",
    ")"
   ]
  },
  {
   "cell_type": "code",
   "execution_count": null,
   "id": "ab0b0e4f",
   "metadata": {},
   "outputs": [
    {
     "name": "stdout",
     "output_type": "stream",
     "text": [
      "Recorded provenance: filter_dataframes\n"
     ]
    }
   ],
   "source": [
    "#Filtering both dataframes to keep relevant columns only\n",
    "cols_to_keep = [\"name\", \"type\", \"rarity\", \"setName\", \"setCode\", \"isUniversesBeyond\", \"releaseDate\", \"keywords\", \"keywordCount\", \"manaValue\", \"power\", \"toughness\", \"baseLevel\", \"defense\", \"colors\", \"isMulticolor\", \"text\", \"edhrecRank\"]\n",
    "df_ub = df_ub.reindex(columns=cols_to_keep, fill_value=None)\n",
    "df_non_ub = df_non_ub.reindex(columns=cols_to_keep, fill_value=None)\n",
    "\n",
    "record_provenance(\n",
    "    \"filter_dataframes\", \n",
    "    \"Retain only potentially relevant columns\",\n",
    "    [\"df_ub (Universe Beyond dataframe)\", \"df_non_ub (non-Universe Beyond dataframe)\"],\n",
    "    [\"df_ub (filtered Universe Beyond dataframe)\", \"df_non_ub (filtered non-Universe Beyond dataframe)\"]\n",
    ")"
   ]
  },
  {
   "cell_type": "code",
   "execution_count": 13,
   "id": "07f941ce",
   "metadata": {},
   "outputs": [
    {
     "name": "stdout",
     "output_type": "stream",
     "text": [
      "                name                     type    rarity        setName  \\\n",
      "0  Ancestor's Chosen  Creature — Human Cleric  uncommon  Tenth Edition   \n",
      "1  Ancestor's Chosen  Creature — Human Cleric  uncommon  Tenth Edition   \n",
      "2     Angel of Mercy         Creature — Angel  uncommon  Tenth Edition   \n",
      "\n",
      "  setCode  isUniversesBeyond releaseDate        keywords  keywordCount  \\\n",
      "0     10E              False  2007-07-13  [First strike]             1   \n",
      "1     10E              False  2007-07-13  [First strike]             1   \n",
      "2     10E              False  2007-07-13        [Flying]             1   \n",
      "\n",
      "   manaValue  power  toughness  baseLevel  defense colors  isMulticolor  \\\n",
      "0        7.0    4.0        4.0       15.0      NaN    [W]         False   \n",
      "1        7.0    4.0        4.0       15.0      NaN    [W]         False   \n",
      "2        5.0    3.0        3.0       11.0      NaN    [W]         False   \n",
      "\n",
      "                                                text  edhrecRank  \n",
      "0  First strike (This creature deals combat damag...     23254.0  \n",
      "1  First strike (This creature deals combat damag...     23254.0  \n",
      "2  Flying\\nWhen this creature enters, you gain 3 ...     18475.0  \n",
      "############################################\n"
     ]
    },
    {
     "data": {
      "text/plain": [
       "name                                                 Ancestor's Chosen\n",
       "type                                           Creature — Human Cleric\n",
       "rarity                                                        uncommon\n",
       "setName                                                  Tenth Edition\n",
       "setCode                                                            10E\n",
       "isUniversesBeyond                                                False\n",
       "releaseDate                                        2007-07-13 00:00:00\n",
       "keywords                                                [First strike]\n",
       "keywordCount                                                         1\n",
       "manaValue                                                          7.0\n",
       "power                                                              4.0\n",
       "toughness                                                          4.0\n",
       "baseLevel                                                         15.0\n",
       "defense                                                            NaN\n",
       "colors                                                             [W]\n",
       "isMulticolor                                                     False\n",
       "text                 First strike (This creature deals combat damag...\n",
       "edhrecRank                                                     23254.0\n",
       "Name: 0, dtype: object"
      ]
     },
     "execution_count": 13,
     "metadata": {},
     "output_type": "execute_result"
    }
   ],
   "source": [
    "print(df_non_ub.head(3))\n",
    "print(\"############################################\")\n",
    "df_non_ub.iloc[0]\n",
    "# print(df_ub.head(3))"
   ]
  },
  {
   "cell_type": "code",
   "execution_count": null,
   "id": "1f983104",
   "metadata": {},
   "outputs": [
    {
     "name": "stdout",
     "output_type": "stream",
     "text": [
      "Recorded provenance: data_cleaning\n"
     ]
    }
   ],
   "source": [
    "#Data cleaning\n",
    "for df in [df_ub, df_non_ub]:\n",
    "    df[\"name\"] = df[\"name\"].str.strip().str.lower()\n",
    "    df[\"rarity\"] = df[\"rarity\"].str.lower()\n",
    "    df[\"type\"] = df[\"type\"].str.lower()\n",
    "    df[\"text\"] = (\n",
    "        df[\"text\"]\n",
    "        .str.replace(\"—\", \"-\", regex=False)\n",
    "        .str.replace(\"–\", \"-\", regex=False)\n",
    "        .str.replace(\"’\", \"'\", regex=False)\n",
    "        .str.replace(\"“\", '\"', regex=False)\n",
    "        .str.replace(\"”\", '\"', regex=False)\n",
    "    )\n",
    "\n",
    "record_provenance(\n",
    "    \"data_cleaning\", \n",
    "    \"Normalized important string fields\", \n",
    "    [\"df_ub (filtered Universe Beyond dataframe)\", \"df_non_ub (filtered non-Universe Beyond dataframe)\"], \n",
    "    [\"df_ub (cleaned Universe Beyond dataframe)\", \"df_non_ub (cleaned non-Universe Beyond dataframe)\"]\n",
    ")"
   ]
  },
  {
   "cell_type": "code",
   "execution_count": 15,
   "id": "699b2be1",
   "metadata": {},
   "outputs": [
    {
     "data": {
      "text/html": [
       "<div>\n",
       "<style scoped>\n",
       "    .dataframe tbody tr th:only-of-type {\n",
       "        vertical-align: middle;\n",
       "    }\n",
       "\n",
       "    .dataframe tbody tr th {\n",
       "        vertical-align: top;\n",
       "    }\n",
       "\n",
       "    .dataframe thead th {\n",
       "        text-align: right;\n",
       "    }\n",
       "</style>\n",
       "<table border=\"1\" class=\"dataframe\">\n",
       "  <thead>\n",
       "    <tr style=\"text-align: right;\">\n",
       "      <th></th>\n",
       "      <th>name</th>\n",
       "      <th>type</th>\n",
       "      <th>rarity</th>\n",
       "      <th>setName</th>\n",
       "      <th>setCode</th>\n",
       "      <th>isUniversesBeyond</th>\n",
       "      <th>releaseDate</th>\n",
       "      <th>keywords</th>\n",
       "      <th>keywordCount</th>\n",
       "      <th>manaValue</th>\n",
       "      <th>power</th>\n",
       "      <th>toughness</th>\n",
       "      <th>baseLevel</th>\n",
       "      <th>defense</th>\n",
       "      <th>colors</th>\n",
       "      <th>isMulticolor</th>\n",
       "      <th>text</th>\n",
       "      <th>edhrecRank</th>\n",
       "    </tr>\n",
       "  </thead>\n",
       "  <tbody>\n",
       "    <tr>\n",
       "      <th>2675</th>\n",
       "      <td>szarekh, the silent king</td>\n",
       "      <td>legendary artifact creature — necron</td>\n",
       "      <td>mythic</td>\n",
       "      <td>Warhammer 40,000 Commander</td>\n",
       "      <td>40K</td>\n",
       "      <td>True</td>\n",
       "      <td>2022-10-07</td>\n",
       "      <td>[Flying, Mill, My Will Be Done]</td>\n",
       "      <td>3</td>\n",
       "      <td>4.0</td>\n",
       "      <td>3.0</td>\n",
       "      <td>4.0</td>\n",
       "      <td>11.0</td>\n",
       "      <td>NaN</td>\n",
       "      <td>[B]</td>\n",
       "      <td>False</td>\n",
       "      <td>Flying\\nMy Will Be Done - Whenever Szarekh, th...</td>\n",
       "      <td>9092.0</td>\n",
       "    </tr>\n",
       "    <tr>\n",
       "      <th>2676</th>\n",
       "      <td>abaddon the despoiler</td>\n",
       "      <td>legendary creature — astartes warrior</td>\n",
       "      <td>mythic</td>\n",
       "      <td>Warhammer 40,000 Commander</td>\n",
       "      <td>40K</td>\n",
       "      <td>True</td>\n",
       "      <td>2022-10-07</td>\n",
       "      <td>[Mark of Chaos Ascendant, Trample]</td>\n",
       "      <td>2</td>\n",
       "      <td>5.0</td>\n",
       "      <td>5.0</td>\n",
       "      <td>5.0</td>\n",
       "      <td>15.0</td>\n",
       "      <td>NaN</td>\n",
       "      <td>[B, R, U]</td>\n",
       "      <td>True</td>\n",
       "      <td>Trample\\nMark of Chaos Ascendant - During your...</td>\n",
       "      <td>8018.0</td>\n",
       "    </tr>\n",
       "    <tr>\n",
       "      <th>2677</th>\n",
       "      <td>inquisitor greyfax</td>\n",
       "      <td>legendary creature — human inquisitor</td>\n",
       "      <td>mythic</td>\n",
       "      <td>Warhammer 40,000 Commander</td>\n",
       "      <td>40K</td>\n",
       "      <td>True</td>\n",
       "      <td>2022-10-07</td>\n",
       "      <td>[Hunt for Heresy, Investigate, Unquestionable ...</td>\n",
       "      <td>4</td>\n",
       "      <td>4.0</td>\n",
       "      <td>3.0</td>\n",
       "      <td>3.0</td>\n",
       "      <td>10.0</td>\n",
       "      <td>NaN</td>\n",
       "      <td>[B, U, W]</td>\n",
       "      <td>True</td>\n",
       "      <td>Vigilance\\nUnquestionable Wisdom - Other creat...</td>\n",
       "      <td>8664.0</td>\n",
       "    </tr>\n",
       "    <tr>\n",
       "      <th>2678</th>\n",
       "      <td>the swarmlord</td>\n",
       "      <td>legendary creature — tyranid</td>\n",
       "      <td>mythic</td>\n",
       "      <td>Warhammer 40,000 Commander</td>\n",
       "      <td>40K</td>\n",
       "      <td>True</td>\n",
       "      <td>2022-10-07</td>\n",
       "      <td>[Rapid Regeneration, Xenos Cunning]</td>\n",
       "      <td>2</td>\n",
       "      <td>6.0</td>\n",
       "      <td>5.0</td>\n",
       "      <td>5.0</td>\n",
       "      <td>16.0</td>\n",
       "      <td>NaN</td>\n",
       "      <td>[G, R, U]</td>\n",
       "      <td>True</td>\n",
       "      <td>Rapid Regeneration - The Swarmlord enters with...</td>\n",
       "      <td>11794.0</td>\n",
       "    </tr>\n",
       "    <tr>\n",
       "      <th>2679</th>\n",
       "      <td>imotekh the stormlord</td>\n",
       "      <td>legendary artifact creature — necron</td>\n",
       "      <td>mythic</td>\n",
       "      <td>Warhammer 40,000 Commander</td>\n",
       "      <td>40K</td>\n",
       "      <td>True</td>\n",
       "      <td>2022-10-07</td>\n",
       "      <td>[Grand Strategist, Phaeron]</td>\n",
       "      <td>2</td>\n",
       "      <td>4.0</td>\n",
       "      <td>3.0</td>\n",
       "      <td>3.0</td>\n",
       "      <td>10.0</td>\n",
       "      <td>NaN</td>\n",
       "      <td>[B]</td>\n",
       "      <td>False</td>\n",
       "      <td>Phaeron - Whenever one or more artifact cards ...</td>\n",
       "      <td>4364.0</td>\n",
       "    </tr>\n",
       "  </tbody>\n",
       "</table>\n",
       "</div>"
      ],
      "text/plain": [
       "                          name                                   type  rarity  \\\n",
       "2675  szarekh, the silent king   legendary artifact creature — necron  mythic   \n",
       "2676     abaddon the despoiler  legendary creature — astartes warrior  mythic   \n",
       "2677        inquisitor greyfax  legendary creature — human inquisitor  mythic   \n",
       "2678             the swarmlord           legendary creature — tyranid  mythic   \n",
       "2679     imotekh the stormlord   legendary artifact creature — necron  mythic   \n",
       "\n",
       "                         setName setCode  isUniversesBeyond releaseDate  \\\n",
       "2675  Warhammer 40,000 Commander     40K               True  2022-10-07   \n",
       "2676  Warhammer 40,000 Commander     40K               True  2022-10-07   \n",
       "2677  Warhammer 40,000 Commander     40K               True  2022-10-07   \n",
       "2678  Warhammer 40,000 Commander     40K               True  2022-10-07   \n",
       "2679  Warhammer 40,000 Commander     40K               True  2022-10-07   \n",
       "\n",
       "                                               keywords  keywordCount  \\\n",
       "2675                    [Flying, Mill, My Will Be Done]             3   \n",
       "2676                 [Mark of Chaos Ascendant, Trample]             2   \n",
       "2677  [Hunt for Heresy, Investigate, Unquestionable ...             4   \n",
       "2678                [Rapid Regeneration, Xenos Cunning]             2   \n",
       "2679                        [Grand Strategist, Phaeron]             2   \n",
       "\n",
       "      manaValue  power  toughness  baseLevel  defense     colors  \\\n",
       "2675        4.0    3.0        4.0       11.0      NaN        [B]   \n",
       "2676        5.0    5.0        5.0       15.0      NaN  [B, R, U]   \n",
       "2677        4.0    3.0        3.0       10.0      NaN  [B, U, W]   \n",
       "2678        6.0    5.0        5.0       16.0      NaN  [G, R, U]   \n",
       "2679        4.0    3.0        3.0       10.0      NaN        [B]   \n",
       "\n",
       "      isMulticolor                                               text  \\\n",
       "2675         False  Flying\\nMy Will Be Done - Whenever Szarekh, th...   \n",
       "2676          True  Trample\\nMark of Chaos Ascendant - During your...   \n",
       "2677          True  Vigilance\\nUnquestionable Wisdom - Other creat...   \n",
       "2678          True  Rapid Regeneration - The Swarmlord enters with...   \n",
       "2679         False  Phaeron - Whenever one or more artifact cards ...   \n",
       "\n",
       "      edhrecRank  \n",
       "2675      9092.0  \n",
       "2676      8018.0  \n",
       "2677      8664.0  \n",
       "2678     11794.0  \n",
       "2679      4364.0  "
      ]
     },
     "execution_count": 15,
     "metadata": {},
     "output_type": "execute_result"
    }
   ],
   "source": [
    "df_ub.head()"
   ]
  },
  {
   "cell_type": "code",
   "execution_count": null,
   "id": "1936d91c",
   "metadata": {},
   "outputs": [
    {
     "name": "stdout",
     "output_type": "stream",
     "text": [
      "Recorded provenance: export_csv\n"
     ]
    }
   ],
   "source": [
    "#Exporting to CSV\n",
    "df_ub.to_csv(\"output/universes_beyond.csv\", index=False)\n",
    "df_non_ub.to_csv(\"output/non_universes_beyond.csv\", index=False)\n",
    "\n",
    "record_provenance(\n",
    "    \"export_csv\", \n",
    "    \"Exported both dataframes to CSV for easier future use\",\n",
    "    [\"df_ub (cleaned Universe Beyond dataframe)\", \"df_non_ub (cleaned non-Universe Beyond dataframe)\"],\n",
    "    [\"output/universes_beyond.csv\", \"output/non_universes_beyond.csv\"]\n",
    ")"
   ]
  }
 ],
 "metadata": {
  "kernelspec": {
   "display_name": ".venv",
   "language": "python",
   "name": "python3"
  },
  "language_info": {
   "codemirror_mode": {
    "name": "ipython",
    "version": 3
   },
   "file_extension": ".py",
   "mimetype": "text/x-python",
   "name": "python",
   "nbconvert_exporter": "python",
   "pygments_lexer": "ipython3",
   "version": "3.13.1"
  }
 },
 "nbformat": 4,
 "nbformat_minor": 5
}
